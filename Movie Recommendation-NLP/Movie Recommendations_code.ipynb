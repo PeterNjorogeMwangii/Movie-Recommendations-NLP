{
 "cells": [
  {
   "cell_type": "markdown",
   "id": "f32d40b2",
   "metadata": {},
   "source": [
    "<font color='blue' size=\"+3\">Design a Text Retrieval System\n",
    "</font>\n"
   ]
  },
  {
   "cell_type": "markdown",
   "id": "e3171c44",
   "metadata": {},
   "source": [
    "#### **Importing Libraries**"
   ]
  },
  {
   "cell_type": "code",
   "execution_count": 1,
   "id": "9a342b3b",
   "metadata": {},
   "outputs": [
    {
     "name": "stderr",
     "output_type": "stream",
     "text": [
      "[nltk_data] Downloading package punkt to\n",
      "[nltk_data]     C:\\Users\\Petter\\AppData\\Roaming\\nltk_data...\n",
      "[nltk_data]   Unzipping tokenizers\\punkt.zip.\n",
      "[nltk_data] Downloading package stopwords to\n",
      "[nltk_data]     C:\\Users\\Petter\\AppData\\Roaming\\nltk_data...\n",
      "[nltk_data]   Package stopwords is already up-to-date!\n"
     ]
    },
    {
     "data": {
      "text/plain": [
       "True"
      ]
     },
     "execution_count": 1,
     "metadata": {},
     "output_type": "execute_result"
    }
   ],
   "source": [
    "import pandas as pd\n",
    "import numpy as np\n",
    "import nltk\n",
    "from nltk.corpus import stopwords\n",
    "from nltk.tokenize import word_tokenize\n",
    "import string\n",
    "from collections import defaultdict, Counter\n",
    "from math import log, sqrt\n",
    "\n",
    "nltk.download('punkt')\n",
    "nltk.download('stopwords')"
   ]
  },
  {
   "cell_type": "markdown",
   "id": "de27b3d8",
   "metadata": {},
   "source": [
    "#### **Reading Data**"
   ]
  },
  {
   "cell_type": "code",
   "execution_count": 24,
   "id": "dd716843",
   "metadata": {},
   "outputs": [
    {
     "data": {
      "text/html": [
       "<div>\n",
       "<style scoped>\n",
       "    .dataframe tbody tr th:only-of-type {\n",
       "        vertical-align: middle;\n",
       "    }\n",
       "\n",
       "    .dataframe tbody tr th {\n",
       "        vertical-align: top;\n",
       "    }\n",
       "\n",
       "    .dataframe thead th {\n",
       "        text-align: right;\n",
       "    }\n",
       "</style>\n",
       "<table border=\"1\" class=\"dataframe\">\n",
       "  <thead>\n",
       "    <tr style=\"text-align: right;\">\n",
       "      <th></th>\n",
       "      <th>title</th>\n",
       "      <th>description</th>\n",
       "    </tr>\n",
       "  </thead>\n",
       "  <tbody>\n",
       "    <tr>\n",
       "      <th>0</th>\n",
       "      <td>Tsotsi</td>\n",
       "      <td>A South African hoodlum named Tsotsi (Presley ...</td>\n",
       "    </tr>\n",
       "    <tr>\n",
       "      <th>1</th>\n",
       "      <td>Abducted in Plain Sight</td>\n",
       "      <td>In 1974 a 12-year-old girl is abducted from a ...</td>\n",
       "    </tr>\n",
       "    <tr>\n",
       "      <th>2</th>\n",
       "      <td>My Life Is Murder</td>\n",
       "      <td>Private investigator Alexa Crow always fights ...</td>\n",
       "    </tr>\n",
       "    <tr>\n",
       "      <th>3</th>\n",
       "      <td>Empire</td>\n",
       "      <td>Hip-hop artist and CEO of Empire Entertainment...</td>\n",
       "    </tr>\n",
       "    <tr>\n",
       "      <th>4</th>\n",
       "      <td>Latter Days</td>\n",
       "      <td>Aaron Davis (Steve Sandvoss), a young Mormon, ...</td>\n",
       "    </tr>\n",
       "  </tbody>\n",
       "</table>\n",
       "</div>"
      ],
      "text/plain": [
       "                     title                                        description\n",
       "0                   Tsotsi  A South African hoodlum named Tsotsi (Presley ...\n",
       "1  Abducted in Plain Sight  In 1974 a 12-year-old girl is abducted from a ...\n",
       "2        My Life Is Murder  Private investigator Alexa Crow always fights ...\n",
       "3                   Empire  Hip-hop artist and CEO of Empire Entertainment...\n",
       "4              Latter Days  Aaron Davis (Steve Sandvoss), a young Mormon, ..."
      ]
     },
     "execution_count": 24,
     "metadata": {},
     "output_type": "execute_result"
    }
   ],
   "source": [
    "train_df = pd.read_csv('train.csv')\n",
    "test_df = pd.read_csv('test.csv')\n",
    "#see the dataset overview\n",
    "train_df.head()"
   ]
  },
  {
   "cell_type": "markdown",
   "id": "4a1b3b42",
   "metadata": {},
   "source": [
    "#### **Data Pre-processing**"
   ]
  },
  {
   "cell_type": "code",
   "execution_count": 25,
   "id": "8ca3d964",
   "metadata": {},
   "outputs": [],
   "source": [
    "train_df.dropna(subset=['title'], inplace=True)\n",
    "train_df = train_df[train_df['description'].notna() & (train_df['description'] != '')]\n",
    "test_df.dropna(subset=['title'], inplace=True)\n",
    "test_df = test_df[test_df['description'].notna() & (test_df['description'] != '')]\n",
    "# Stop words and punctuation translator\n",
    "stop_words = set(stopwords.words('english'))\n",
    "translator = str.maketrans('', '', string.punctuation)"
   ]
  },
  {
   "cell_type": "markdown",
   "id": "eb85005a",
   "metadata": {},
   "source": [
    "#### **Text Preprocessing Function**"
   ]
  },
  {
   "cell_type": "code",
   "execution_count": 26,
   "id": "8d3a9737",
   "metadata": {},
   "outputs": [],
   "source": [
    "# Preprocessing function\n",
    "def preprocess(text):\n",
    "    if isinstance(text, float):\n",
    "        return []\n",
    "    text = text.lower()\n",
    "    text = text.translate(translator)\n",
    "    tokens = word_tokenize(text)\n",
    "    tokens = [word for word in tokens if word not in stop_words]\n",
    "    return tokens\n",
    "\n",
    "# Application of the preprocessing to training and test sets\n",
    "train_df['description_tokens'] = train_df['description'].apply(lambda x: preprocess(x) if pd.notnull(x) else [])\n",
    "test_df['description_tokens'] = test_df['description'].apply(lambda x: preprocess(x) if pd.notnull(x) else [])"
   ]
  },
  {
   "cell_type": "markdown",
   "id": "8bdca1df",
   "metadata": {},
   "source": [
    "#### **Term Frequency (TF)**"
   ]
  },
  {
   "cell_type": "code",
   "execution_count": 27,
   "id": "b01cf57e",
   "metadata": {},
   "outputs": [],
   "source": [
    "# Term Frequency (TF) calculation\n",
    "def compute_tf(doc):\n",
    "    tf = Counter(doc)\n",
    "    for term in tf:\n",
    "        tf[term] /= len(doc)\n",
    "    return tf\n",
    "\n",
    "train_df['tf'] = train_df['description_tokens'].apply(compute_tf)"
   ]
  },
  {
   "cell_type": "markdown",
   "id": "ca7e8772",
   "metadata": {},
   "source": [
    "#### **Document Frequency (DF)**"
   ]
  },
  {
   "cell_type": "code",
   "execution_count": 28,
   "id": "bd58bfc5",
   "metadata": {},
   "outputs": [],
   "source": [
    "# Counts how many documents each term appears in.\n",
    "df = Counter()\n",
    "for tf in train_df['tf']:\n",
    "    df.update(tf.keys())"
   ]
  },
  {
   "cell_type": "markdown",
   "id": "e18afc31",
   "metadata": {},
   "source": [
    "#### **Inverse Document Frequency (IDF)**"
   ]
  },
  {
   "cell_type": "code",
   "execution_count": 29,
   "id": "6b18ff89",
   "metadata": {},
   "outputs": [],
   "source": [
    "# Calculates the inverse document frequency for each term.\n",
    "num_docs = len(train_df)\n",
    "idf = {term: log(num_docs / (1 + df[term])) for term in df}"
   ]
  },
  {
   "cell_type": "markdown",
   "id": "f2001695",
   "metadata": {},
   "source": [
    "#### **TF-IDF Calculation**"
   ]
  },
  {
   "cell_type": "code",
   "execution_count": 30,
   "id": "e36c7c20",
   "metadata": {},
   "outputs": [],
   "source": [
    "# Combines TF and IDF to compute the TF-IDF score for each term in each document.\n",
    "def compute_tfidf(tf, idf):\n",
    "    tfidf = {term: tf[term] * idf.get(term, 0) for term in tf}\n",
    "    return tfidf\n",
    "\n",
    "train_df['tfidf'] = train_df['tf'].apply(lambda tf: compute_tfidf(tf, idf))"
   ]
  },
  {
   "cell_type": "markdown",
   "id": "a93dc1b4",
   "metadata": {},
   "source": [
    "#### **Inverted Index**"
   ]
  },
  {
   "cell_type": "code",
   "execution_count": 31,
   "id": "3df58d89",
   "metadata": {},
   "outputs": [],
   "source": [
    "# Maps each term to a list of documents (by index) and their corresponding TF-IDF scores.\n",
    "inverted_index = defaultdict(list)\n",
    "for idx, tfidf in enumerate(train_df['tfidf']):\n",
    "    for term, score in tfidf.items():\n",
    "        inverted_index[term].append((idx, score))"
   ]
  },
  {
   "cell_type": "markdown",
   "id": "9821ef70",
   "metadata": {},
   "source": [
    "#### **Cosine Similarity Calculation**"
   ]
  },
  {
   "cell_type": "code",
   "execution_count": 32,
   "id": "43273eeb",
   "metadata": {},
   "outputs": [],
   "source": [
    "# Computes the cosine similarity between two TF-IDF vectors.\n",
    "def compute_cosine_similarity(vec1, vec2):\n",
    "    common_terms = set(vec1.keys()).intersection(set(vec2.keys()))\n",
    "    dot_product = sum(vec1[term] * vec2[term] for term in common_terms)\n",
    "    norm_vec1 = sqrt(sum(val**2 for val in vec1.values()))\n",
    "    norm_vec2 = sqrt(sum(val**2 for val in vec2.values()))\n",
    "    if norm_vec1 == 0 or norm_vec2 == 0:\n",
    "        return 0.0\n",
    "    return dot_product / (norm_vec1 * norm_vec2)"
   ]
  },
  {
   "cell_type": "markdown",
   "id": "e12e993a",
   "metadata": {},
   "source": [
    "#### **Finding Similar Descriptions**"
   ]
  },
  {
   "cell_type": "code",
   "execution_count": 33,
   "id": "5ff61fec",
   "metadata": {},
   "outputs": [],
   "source": [
    "# Function to find similar descriptions\n",
    "def find_similar_descriptions(test_desc, train_df, top_n=3):\n",
    "    test_tf = compute_tf(test_desc)\n",
    "    test_tfidf = compute_tfidf(test_tf, idf)\n",
    "    similarities = []\n",
    "    for idx, train_tfidf in enumerate(train_df['tfidf']):\n",
    "        similarity = compute_cosine_similarity(test_tfidf, train_tfidf)\n",
    "        similarities.append((idx, similarity))\n",
    "    top_indices = sorted(similarities, key=lambda x: x[1], reverse=True)[:top_n]\n",
    "    return [idx for idx, _ in top_indices], test_tfidf"
   ]
  },
  {
   "cell_type": "markdown",
   "id": "c5573c73",
   "metadata": {},
   "source": [
    "#### **Generating Results**"
   ]
  },
  {
   "cell_type": "code",
   "execution_count": 34,
   "id": "99685319",
   "metadata": {},
   "outputs": [],
   "source": [
    "# For each test description, finds the top 3 similar descriptions\n",
    "#from the training data and stores the titles of the similar movies.\n",
    "results = []\n",
    "test_tfidfs = []\n",
    "for test_desc in test_df['description_tokens']:\n",
    "    similar_indices, test_tfidf = find_similar_descriptions(test_desc, train_df)\n",
    "    similar_movies = train_df.iloc[similar_indices][['title', 'description', 'description_tokens', 'tfidf']].values.tolist()\n",
    "    results.append(similar_movies)\n",
    "    test_tfidfs.append(test_tfidf)"
   ]
  },
  {
   "cell_type": "markdown",
   "id": "0b0381be",
   "metadata": {},
   "source": [
    "#### **Average TF-IDF Cosine Similarity**"
   ]
  },
  {
   "cell_type": "code",
   "execution_count": 35,
   "id": "cb9e260c",
   "metadata": {},
   "outputs": [
    {
     "name": "stdout",
     "output_type": "stream",
     "text": [
      "TF-IDF Cosine Similarities for each test-movie with its top 3:\n",
      "\n",
      " [0.11602708091335938, 0.15051074656968355, 0.15267076138636576, 0.1436510421558677, 0.16862311975533684, 0.1731129520538688, 0.2260479765171135, 0.3600768643395129, 0.14463395997799042, 0.12536409673992438]\n",
      "\n",
      "Average TF-IDF Cosine Similarity: 0.18\n"
     ]
    }
   ],
   "source": [
    "# Average TF-IDF similarity\n",
    "def calculate_average_tfidf_similarity(test_tfidf, similar_movies):\n",
    "    similarities = []\n",
    "    for movie in similar_movies:\n",
    "        similarities.append(compute_cosine_similarity(test_tfidf, movie[3]))\n",
    "    return np.mean(similarities)\n",
    "\n",
    "average_cosine_similarities = []\n",
    "for test_desc, test_tfidf, similar_movies in zip(test_df['description_tokens'], test_tfidfs, results):\n",
    "    # jaccard_similarities = [calculate_jaccard_similarity(set(test_desc), set(movie[2])) for movie in similar_movies]\n",
    "    cosine_similarities = [compute_cosine_similarity(test_tfidf, movie[3]) for movie in similar_movies]\n",
    "    # average_jaccard_similarities.append(np.mean(jaccard_similarities))\n",
    "    average_cosine_similarities.append(np.mean(cosine_similarities))\n",
    "\n",
    "# average_jaccard_similarity = np.mean(average_jaccard_similarities)\n",
    "average_cosine_similarity = np.mean(average_cosine_similarities)\n",
    "\n",
    "# print(f\"Average Jaccard Similarity: {average_jaccard_similarity:.2f}\")\n",
    "print(f\"TF-IDF Cosine Similarities for each test-movie with its top 3:\\n\\n {average_cosine_similarities}\\n\")\n",
    "print(f\"Average TF-IDF Cosine Similarity: {average_cosine_similarity:.2f}\")"
   ]
  },
  {
   "cell_type": "markdown",
   "id": "c2660b40",
   "metadata": {},
   "source": [
    "#### **Displaying Results**"
   ]
  },
  {
   "cell_type": "code",
   "execution_count": 37,
   "id": "f1561416",
   "metadata": {},
   "outputs": [
    {
     "name": "stdout",
     "output_type": "stream",
     "text": [
      "--------------------------------------------------------------------------------------------------------------\n",
      "--------------------------------------------------------------------------------------------------------------\n",
      "Test Movie's title: Splitting Up Together\n",
      "Test Movie's description: Ellen DeGeneres serves as executive producer of this comedy that is based on a Danish series of the same name. Lena and Martin were certain enough that their marriage was over to make it official and go through the complicated untangling involved in filing for divorce. The last thing that they expected was to be brought back together by the experience, but they find their relationship strangely reignited by the experience. Together, they navigate their evolving relationship with open minds and newly reopened hearts.\n",
      "--------------------------------------------------------------------------------------------------------------\n",
      "TOP 3 SIMILAR MOVIES:\n",
      "\n",
      "\tTitle: Happily Divorced\n",
      "\tDescription: Fran Drescher stars in this comedy series based on her real-life experience. Drescher plays a Los Angeles florist, Fran, whose marriage ends after 18 years when her husband reveals that he is gay. But he can't afford to move out, causing them to try to be \"happily divorced\" while living under one roof. It goes without saying that the whole \"living together and being happily divorced\" thing isn't as easy as they anticipated. Drescher serves as executive producer of the series with her real-life ex-husband, Peter Marc Jacobson.\n",
      "\n",
      "\tTitle: Colin from Accounts\n",
      "\tDescription: Ashley and Gordon are brought together by a car accident and an injured dog, and learn to navigate life together while showing their true selves, scars and all.\n",
      "\n",
      "\tTitle: Ishqiya\n",
      "\tDescription: People experience emotions in an unexpected manner.\n",
      "\n",
      "\n",
      "--------------------------------------------------------------------------------------------------------------\n",
      "--------------------------------------------------------------------------------------------------------------\n",
      "Test Movie's title: The Trip\n",
      "Test Movie's description: A collage of film images and ambient dance sounds from Jacques Peretti and DJ Downfall.\n",
      "--------------------------------------------------------------------------------------------------------------\n",
      "TOP 3 SIMILAR MOVIES:\n",
      "\n",
      "\tTitle: Mesrine: Killer Instinct\n",
      "\tDescription: Jacques Mesrine becomes France's most-wanted criminal.\n",
      "\n",
      "\tTitle: Oceans\n",
      "\tDescription: Most of the Earth's surface is covered by water; using the latest technology, filmmakers Jacques Perrin and Jacques Cluzaud set out to explore the underwater world. Diving deep into the waters that ultimately sustain all life on Earth, Perrin and Cluzaud capture spectacular footage of the amazing beauty and harsh reality of life beneath the waves.\n",
      "\n",
      "\tTitle: The Names of Love\n",
      "\tDescription: A sheltered scientist (Jacques Gamblin) and a sexy political activist (Sara Forestier) have a May-December romance.\n",
      "\n",
      "\n",
      "--------------------------------------------------------------------------------------------------------------\n",
      "--------------------------------------------------------------------------------------------------------------\n",
      "Test Movie's title: The Kids Are Alright\n",
      "Test Movie's description: Set in the 1970s, this ensemble comedy follows a traditional Irish-Catholic family, the Clearys, as it navigates big and small changes during one of America's most turbulent decades. In a working-class neighborhood outside Los Angeles, Mike and Peggy raise eight boisterous boys who live out their days with little supervision in their three bedroom, one bathroom home. The household is turned upside down when oldest son Lawrence returns home and announces he's quitting the seminary to go off and \"save the world.\"\n",
      "--------------------------------------------------------------------------------------------------------------\n",
      "TOP 3 SIMILAR MOVIES:\n",
      "\n",
      "\tTitle: The Guest\n",
      "\tDescription: A servant boy's world is turned upside down by the arrival of a guest.\n",
      "\n",
      "\tTitle: The Great Indian Kitchen\n",
      "\tDescription: After marriage, a woman struggles to be the submissive wife that her husband and his family expect her to be. The story follows her journey, as she changes herself and, even more so, changes the household.\n",
      "\n",
      "\tTitle: Bob Biswas\n",
      "\tDescription: After eight years in a coma, an insurance agent returns home to his wife and son, but he has no memories of his past.\n",
      "\n",
      "\n",
      "--------------------------------------------------------------------------------------------------------------\n",
      "--------------------------------------------------------------------------------------------------------------\n",
      "Test Movie's title: Breeders\n",
      "Test Movie's description: \"Breeders\" explores the paradox experienced by nearly all parents, the willingness to die for one's children coupled with the near-constant desire to kill them. Paul is a caring father who discovers he's not quite the man he thought he was. His partner, Ally, runs a recording studio, makes Paul laugh and has the ability to read a story to their children while she's technically asleep. In this honest and uncompromising comedy, Paul and Ally are juggling full-time careers, aging parents, a mortgage, upheavals in their relationship and the unenviable curveballs of parenting their young children, Luke and Ava. When Ally's estranged father Michael appears on their doorstep, the family essentially takes on a third child three quarters of the time, but this one comes with baggage and opinions. Paul's own parents, Jackie and Jim, are on hand to help out, but their generation does parenting a little differently.\n",
      "--------------------------------------------------------------------------------------------------------------\n",
      "TOP 3 SIMILAR MOVIES:\n",
      "\n",
      "\tTitle: #BlackAF\n",
      "\tDescription: A man takes an irreverent and honest approach to parenting and relationships.\n",
      "\n",
      "\tTitle: Paul, Apostle of Christ\n",
      "\tDescription: Risking his life, Luke ventures to Rome to visit Paul -- the apostle who's bound in chains and held captive in Nero's darkest and bleakest prison cell. Haunted by the shadows of his past misdeeds, Paul wonders if he's been forgotten as he awaits his grisly execution. Before Paul's death, Luke resolves to write another book that details the birth of what will come to be known as the church.\n",
      "\n",
      "\tTitle: All the Real Girls\n",
      "\tDescription: Paul (Paul Schneider) is living it up as a small-town Casanova, happily hopping from one one-night-stand to the next. When Noel (Zooey Deschanel) -- the virginal younger sister of his best friend, Tip (Shea Whigham) -- returns home, grown up and gorgeous, Paul falls for her. But because of his sordid past, Tip is suspicious of his pal's intentions. To make his relationship with Noel work, Paul will have to prove to his family and friends that he can be a man worthy of her love.\n",
      "\n",
      "\n",
      "--------------------------------------------------------------------------------------------------------------\n",
      "--------------------------------------------------------------------------------------------------------------\n",
      "Test Movie's title: Let the Right One In\n",
      "Test Movie's description: The lives of Mark and his daughter, Eleanor, were forever changed 10 years earlier when she was turned into a vampire. As Eleanor is only able to go out at night, Mark does his best to provide her with the human blood she needs to stay alive.\n",
      "--------------------------------------------------------------------------------------------------------------\n",
      "TOP 3 SIMILAR MOVIES:\n",
      "\n",
      "\tTitle: The Good Place\n",
      "\tDescription: When Eleanor Shellstrop finds herself in the afterlife, she's both relieved and surprised that she's made it into the Good Place. But it doesn't take long for Eleanor to realize she's there by mistake. She hides in plain sight from the Good Place's architect, Michael, and his all-knowing assistant, Janet. Her seemingly perfect neighbors, Tahani and Jason, and open-hearted soul mate, Chidi, help her realize that it's never too late to change. With the help of her new friends -- and a few enemies -- Eleanor becomes determined to shed her old way of life in hopes of discovering a new one in the afterlife.\n",
      "\n",
      "\tTitle: The Silence\n",
      "\tDescription: The lives of two people are changed forever when a tragedy in the family tears them apart beyond repair.\n",
      "\n",
      "\tTitle: Priyotoma\n",
      "\tDescription: A tragic love story leaves an indelible mark on Sumon's life, shattering his world and transforming him forever.\n",
      "\n",
      "\n",
      "--------------------------------------------------------------------------------------------------------------\n",
      "--------------------------------------------------------------------------------------------------------------\n",
      "Test Movie's title: Raja Rani\n",
      "Test Movie's description: On the run from police, a thief (Rajesh Khanna) crashes a wedding and winds up marrying the bride (Sharmila Tagore).\n",
      "--------------------------------------------------------------------------------------------------------------\n",
      "TOP 3 SIMILAR MOVIES:\n",
      "\n",
      "\tTitle: Hulchul\n",
      "\tDescription: A war emerges between two families when two young people (Akshaye Khanna, Kareena Kapoor) fall in love.\n",
      "\n",
      "\tTitle: Kill Bill: Vol. 1\n",
      "\tDescription: A former assassin, known simply as The Bride (Uma Thurman), wakes from a coma four years after her jealous ex-lover Bill (David Carradine) attempts to murder her on her wedding day. Fueled by an insatiable desire for revenge, she vows to get even with every person who contributed to the loss of her unborn child, her entire wedding party, and four years of her life. After devising a hit list, The Bride sets off on her quest, enduring unspeakable injury and unscrupulous enemies.\n",
      "\n",
      "\tTitle: Jawani Phir Nahi Ani\n",
      "\tDescription: Four friends set out on a journey before their friend's wedding.\n",
      "\n",
      "\n",
      "--------------------------------------------------------------------------------------------------------------\n",
      "--------------------------------------------------------------------------------------------------------------\n",
      "Test Movie's title: Bommarillu\n",
      "Test Movie's description: Siddhu's overprotective father decides to get him married to a rich girl. Siddhu's life, however, takes an interesting turn when he meets and falls in love with Hasini.\n",
      "--------------------------------------------------------------------------------------------------------------\n",
      "TOP 3 SIMILAR MOVIES:\n",
      "\n",
      "\tTitle: Thammudu\n",
      "\tDescription: The youngest son of the family does not take his life seriously; his father always reprimands him but his elder brother and a friend love him. He falls in love with a girl and lies to her that he belongs to a rich family.\n",
      "\n",
      "\tTitle: Socha Na Tha\n",
      "\tDescription: A boy is forced meet a girl and get married to her but even though he refuses to do so, they become good friends. However when the both of them get engaged to different people they realize that they've fallen in love with each other.\n",
      "\n",
      "\tTitle: The Good Guys\n",
      "\tDescription: Two longtime friends search for a way to get rich.\n",
      "\n",
      "\n",
      "--------------------------------------------------------------------------------------------------------------\n",
      "--------------------------------------------------------------------------------------------------------------\n",
      "Test Movie's title: Father Brown\n",
      "Test Movie's description: Based on the novels of G.K. Chesterton.\n",
      "--------------------------------------------------------------------------------------------------------------\n",
      "TOP 3 SIMILAR MOVIES:\n",
      "\n",
      "\tTitle: Durarara!!\n",
      "\tDescription: This action-packed anime series is based on the novels with the same name, written by Ryohgo Narita.\n",
      "\n",
      "\tTitle: Tales of the City\n",
      "\tDescription: Based on Armistead Maupin's novels, this drama chronicles life in liberated 1970s San Francisco.\n",
      "\n",
      "\tTitle: Tales of the City\n",
      "\tDescription: Based on Armistead Maupin's novels, this drama chronicles life in liberated 1970s San Francisco.\n",
      "\n",
      "\n",
      "--------------------------------------------------------------------------------------------------------------\n",
      "--------------------------------------------------------------------------------------------------------------\n",
      "Test Movie's title: Jane the Virgin\n",
      "Test Movie's description: Jane Villanueva, the daughter of a teen mother, grew up determined not to repeat her mom's mistakes. Jane is studying to be a teacher, and she is engaged to a handsome detective who supports her decision to remain a virgin until marriage, but a routine visit to the clinic turns her life upside down. Inseminated by a specimen meant for a patient in the next room, Jane is in a situation made only more insane when she learns that the sperm donor is her boss, Rafael. As her meticulously planned life gets more like the telenovelas she loves, she faces a lot of complicated decisions about the future.\n",
      "--------------------------------------------------------------------------------------------------------------\n",
      "TOP 3 SIMILAR MOVIES:\n",
      "\n",
      "\tTitle: Jane by Design\n",
      "\tDescription: Jane Quimby is a high-school fashionista who works as an assistant to high-powered fashion executive Gray Chandler Murray. Jane's problem is that she got her job because they thought she was an adult so she must keep her true age a secret. Jane soon learns that working for a high-profile executive in the cutthroat world of fashion brings you enemies. In Jane's case, that adversary is India, Gray's former assistant who is now gunning for the executive's job. But Jane has an ally in attractive senior designer Jeremy, who piques her interest even though she still harbors feelings for longtime crush Nick in her \"other life\" at school. Jane's best friend, Billy, helps her keep her secret as she lives her two lives. But Billy has his own secret that he is keeping from Jane -- a relationship with her school nemesis, Lulu.\n",
      "\n",
      "\tTitle: Starbuck\n",
      "\tDescription: More than 140 people sue a fertility clinic to reveal the name of the sperm donor (Patrick Huard) whose frequent contributions resulted in 533 offspring.\n",
      "\n",
      "\tTitle: Shutter\n",
      "\tDescription: After hitting a young woman with her car, Jane (Natthaweeranuch Thongmee) and her photographer boyfriend, Tun (Ananda Everingham), begin seeing a shadowy figure haunting the background of Tun's photographs. Concerned that the figure is the vengeful spirit of the young woman from the accident, Jane does some research and soon discovers that the girl was named Natre (Achita Sikamana) and had been a classmate of Tun's. As the haunting continues, Jane uncovers a shocking secret.\n",
      "\n",
      "\n",
      "--------------------------------------------------------------------------------------------------------------\n",
      "--------------------------------------------------------------------------------------------------------------\n",
      "Test Movie's title: Morvern Callar\n",
      "Test Movie's description: When her boyfriend commits suicide, unambitious Glasgow clerk Morvern Callar (Samantha Morton) invents various stories to explain his absence. After several days, she chops up and buries the body. She then finds a novel he completed before killing himself and sends it to several publishing houses as her own work. When the book is bought, Morvern uses her first payment to take a Spanish vacation with her best friend, Lana (Kathleen McDermott), which turns out to be a surprising emotional journey.\n",
      "--------------------------------------------------------------------------------------------------------------\n",
      "TOP 3 SIMILAR MOVIES:\n",
      "\n",
      "\tTitle: Miss Violence\n",
      "\tDescription: An 11-year-old girl commits suicide after family secrets come to light.\n",
      "\n",
      "\tTitle: Frozen\n",
      "\tDescription: A performance artist turns his suicide into a work of art by melting ice with his body.\n",
      "\n",
      "\tTitle: Christmas Getaway\n",
      "\tDescription: After a surprising breakup with her boyfriend, a travel writer decides to go on the picturesque Christmas vacation planned for the two of them, alone.\n",
      "\n",
      "\n"
     ]
    }
   ],
   "source": [
    "# Display Results\n",
    "for i, (test_movie, test_desc) in enumerate(zip(test_df['title'], test_df['description'])):\n",
    "    print(\"-\" * 110)\n",
    "    print(\"-\" * 110)\n",
    "    print(f\"Test Movie's title: {test_movie}\")\n",
    "    print(f\"Test Movie's description: {test_desc}\")\n",
    "    print(\"-\" * 110)\n",
    "    print(\"TOP 3 SIMILAR MOVIES:\")\n",
    "    print()\n",
    "    \n",
    "    for movie in results[i]:\n",
    "        print(f\"\\tTitle: {movie[0]}\")\n",
    "        print(f\"\\tDescription: {movie[1]}\")\n",
    "        print()\n",
    "    print()\n"
   ]
  }
 ],
 "metadata": {
  "kernelspec": {
   "display_name": "Python 3 (ipykernel)",
   "language": "python",
   "name": "python3"
  },
  "language_info": {
   "codemirror_mode": {
    "name": "ipython",
    "version": 3
   },
   "file_extension": ".py",
   "mimetype": "text/x-python",
   "name": "python",
   "nbconvert_exporter": "python",
   "pygments_lexer": "ipython3",
   "version": "3.11.4"
  }
 },
 "nbformat": 4,
 "nbformat_minor": 5
}
